{
 "cells": [
  {
   "cell_type": "markdown",
   "metadata": {},
   "source": [
    "# Collaboration and Competition\n",
    "\n",
    "---\n",
    "\n",
    "You are welcome to use this coding environment to train your agent for the project.  Follow the instructions below to get started!\n",
    "\n",
    "### 1. Start the Environment\n",
    "\n",
    "Run the next code cell to install a few packages.  This line will take a few minutes to run!"
   ]
  },
  {
   "cell_type": "code",
   "execution_count": 1,
   "metadata": {},
   "outputs": [
    {
     "name": "stdout",
     "output_type": "stream",
     "text": [
      "\u001b[31mtensorflow 1.7.1 has requirement numpy>=1.13.3, but you'll have numpy 1.12.1 which is incompatible.\u001b[0m\r\n",
      "\u001b[31mipython 6.5.0 has requirement prompt-toolkit<2.0.0,>=1.0.15, but you'll have prompt-toolkit 3.0.29 which is incompatible.\u001b[0m\r\n",
      "\u001b[31mjupyter-console 6.4.3 has requirement jupyter-client>=7.0.0, but you'll have jupyter-client 5.2.4 which is incompatible.\u001b[0m\r\n"
     ]
    }
   ],
   "source": [
    "!pip -q install ./python"
   ]
  },
  {
   "cell_type": "markdown",
   "metadata": {},
   "source": [
    "The environment is already saved in the Workspace and can be accessed at the file path provided below. "
   ]
  },
  {
   "cell_type": "code",
   "execution_count": 2,
   "metadata": {},
   "outputs": [
    {
     "name": "stderr",
     "output_type": "stream",
     "text": [
      "INFO:unityagents:\n",
      "'Academy' started successfully!\n",
      "Unity Academy name: Academy\n",
      "        Number of Brains: 1\n",
      "        Number of External Brains : 1\n",
      "        Lesson number : 0\n",
      "        Reset Parameters :\n",
      "\t\t\n",
      "Unity brain name: TennisBrain\n",
      "        Number of Visual Observations (per agent): 0\n",
      "        Vector Observation space type: continuous\n",
      "        Vector Observation space size (per agent): 8\n",
      "        Number of stacked Vector Observation: 3\n",
      "        Vector Action space type: continuous\n",
      "        Vector Action space size (per agent): 2\n",
      "        Vector Action descriptions: , \n"
     ]
    }
   ],
   "source": [
    "from unityagents import UnityEnvironment\n",
    "import numpy as np\n",
    "\n",
    "env = UnityEnvironment(file_name=\"/data/Tennis_Linux_NoVis/Tennis\")"
   ]
  },
  {
   "cell_type": "markdown",
   "metadata": {},
   "source": [
    "### 2. Examine the State and Action Spaces\n",
    "\n",
    "Run the code cell below to print some information about the environment."
   ]
  },
  {
   "cell_type": "code",
   "execution_count": 3,
   "metadata": {},
   "outputs": [
    {
     "name": "stdout",
     "output_type": "stream",
     "text": [
      "TennisBrain\n",
      "Number of agents: 2\n",
      "Size of each action: 2\n",
      "(2, 24)\n",
      "There are 2 agents. Each observes a state with length: 24\n",
      "The state for the first agent looks like: (24,)\n"
     ]
    }
   ],
   "source": [
    "# get the default brain\n",
    "brain_name = env.brain_names[0]\n",
    "brain = env.brains[brain_name]\n",
    "print(brain_name)\n",
    "# reset the environment\n",
    "env_info = env.reset(train_mode=True)[brain_name]\n",
    "\n",
    "# number of agents \n",
    "num_agents = len(env_info.agents)\n",
    "print('Number of agents:', num_agents)\n",
    "\n",
    "# size of each action\n",
    "action_size = brain.vector_action_space_size\n",
    "print('Size of each action:', action_size)\n",
    "\n",
    "# examine the state space \n",
    "states = env_info.vector_observations\n",
    "state_size = states.shape[1]\n",
    "print(states.shape)\n",
    "print('There are {} agents. Each observes a state with length: {}'.format(states.shape[0], state_size))\n",
    "agent_1 = states[0]\n",
    "print('The state for the first agent looks like:', agent_1.shape)\n",
    "\n",
    "rewards = (env_info.rewards) # get the rewards\n",
    "dones = (env_info.local_done) # and whether the env is done"
   ]
  },
  {
   "cell_type": "code",
   "execution_count": 4,
   "metadata": {},
   "outputs": [],
   "source": [
    "import numpy as np\n",
    "import gym\n",
    "import random\n",
    "import torch\n",
    "import matplotlib.pyplot as plt\n",
    "%matplotlib inline\n",
    "from IPython.display import clear_output\n",
    "from collections import OrderedDict"
   ]
  },
  {
   "cell_type": "code",
   "execution_count": 5,
   "metadata": {},
   "outputs": [],
   "source": [
    "## Initialise parameters ##\n",
    "All_Noise_Type = ['param','OUNoise','BetaNoise', 'GaussNoise', 'WeightedNoise' ]\n",
    "device = 'cuda' if torch.cuda.is_available() else 'cpu'\n",
    "p = OrderedDict()\n",
    "\n",
    "p.update(state_size=state_size) \n",
    "p.update(action_size=action_size)\n",
    "p.update(hidden_in_size=400) \n",
    "p.update(hidden_out_size=300)\n",
    "p.update(lr_actor=0.001) \n",
    "p.update(lr_critic=0.001)\n",
    "p.update(l2_decay=0.000)\n",
    "p.update(noise_type=All_Noise_Type[1])\n",
    "p.update(OU_mu=0.0)\n",
    "p.update(OU_theta=0.15)\n",
    "p.update(OU_sigma=0.2)\n",
    "p.update(device=device)\n",
    "p.update(Total_Agent=num_agents)\n",
    "p.update(desired_distance=0.5)\n",
    "p.update(Param_scale_Noise=0.05)\n",
    "p.update(Param_scale_Noise_decay=0.99)\n",
    "p.update(Batch_Normalize=True)\n",
    "p.update(Q_Distribution=False)\n",
    "\n",
    "# Not implemented yet. Don't alter the if-else condition\n",
    "if(p['Q_Distribution'] == False):\n",
    "    p.update(QD_log_active=False)\n",
    "    p.update(num_atoms=1, vmin=-0.1, vmax=1)\n",
    "else:\n",
    "    p.update(QD_log_active=True)\n",
    "    p.update(num_atoms=51, vmin=-0.1, vmax=1)\n",
    "\n",
    "\n",
    "## Replay_Buffer_parameters ##\n",
    "p.update(buffer_size=int(1e6), n_steps=5, n_steps_active=False)\n",
    "\n",
    "## Agent_parameters ##\n",
    "p.update(discount_rate=0.99, tau=0.001)\n",
    "\n",
    "## Model_parameters ##\n",
    "p.update(batchsize=128)\n",
    "\n",
    "## Noise_parameters ##\n",
    "p.update(noise_reduction=0.99 , noise_scale_end=0.001)"
   ]
  },
  {
   "cell_type": "code",
   "execution_count": 6,
   "metadata": {},
   "outputs": [
    {
     "name": "stdout",
     "output_type": "stream",
     "text": [
      "Models loaded succesfully\n",
      "Episode 0\tAverage Score in 100 episodes: 0.00\n",
      "Episode 100\tAverage Score in 100 episodes: 0.14\n",
      "Episode 200\tAverage Score in 100 episodes: 0.30\n",
      "Episode 252\t  Score: 2.60\n",
      "Environment solved in 152 episodes!\tAverage Score: 0.51\n",
      "Models saved successfully\n"
     ]
    }
   ],
   "source": [
    "from buffer import ReplayBuffer\n",
    "from maddpg import MADDPG\n",
    "import torch\n",
    "import numpy as np\n",
    "#from tensorboardX import SummaryWriter\n",
    "import os\n",
    "from utilities import transpose_list, transpose_to_tensor, hard_update, soft_update\n",
    "from collections import deque\n",
    "\n",
    "## Episode_parameters ##\n",
    "p.update(number_of_episodes=10000, episode_length=1000, print_every = 100, warmup = 1000,\n",
    "                                 UPDATE_EVERY=2, Num_Updates=10)\n",
    "\n",
    "# set the random seed - this allows for reproducibility\n",
    "start_seed = 5\n",
    "random.seed(start_seed)\n",
    "np.random.seed(start_seed)\n",
    "torch.manual_seed(start_seed)\n",
    "\n",
    "# amplitude of noise\n",
    "# this slowly decreases to 0\n",
    "noise_reduction = p['noise_reduction'] # each episode we decay the noise by this\n",
    "noise_scale = np.ones(num_agents) # we start the noise at 1\n",
    "noise_scale_end = p['noise_scale_end'] # the noise will never drop below this\n",
    "\n",
    "\n",
    "# some performance metrics to keep track of for graphing afterwards\n",
    "scores = []\n",
    "avg_scores = []\n",
    "scores_deque = deque(maxlen=100)\n",
    "\n",
    "# keep 50000 timesteps worth of replay, with n-step-5 bootstraping, and 0.99 discount rate\n",
    "buffer = ReplayBuffer(p['buffer_size'], p['n_steps'], p['discount_rate'], p['n_steps_active'])\n",
    "\n",
    "# initialize actor and critic networks and ddpg agents, passing all parameters to it\n",
    "maddpg = MADDPG(p)\n",
    "maddpg.load_models()\n",
    "\n",
    "\n",
    "for episode in range(0,p['number_of_episodes']):\n",
    "    env_info = env.reset(train_mode=True)[brain_name] # initialise the environment    \n",
    "    \n",
    "    for agent_num in range(num_agents): # for both agents\n",
    "        noise_scale[agent_num] = max(noise_scale[agent_num]*noise_reduction,noise_scale_end) # then reduce noise\n",
    "\n",
    "    \n",
    "    buffer.reset() # reseting the buffer is neccessary to ensure the n-step bootstraps reset after each episode\n",
    "    reward_this_episode = np.zeros(num_agents) # keeping track of episode reward\n",
    "           \n",
    "    states      = env_info.vector_observations     # It is a 2 X 24 numpy array\n",
    "    step_num = 0    \n",
    "    \n",
    "    for episode_t in range(p['episode_length']):\n",
    "        \n",
    "        # explore only for a certain number of episodes\n",
    "        # action input needs to be transposed\n",
    "        \n",
    "        actions_array = maddpg.act(states, noise_scale=noise_scale)       \n",
    "        env_info      = env.step(actions_array)[brain_name]   # input the actions into the env\n",
    "        next_states   = env_info.vector_observations # get the next states\n",
    "        rewards       = env_info.rewards     # get the rewards\n",
    "        dones         = env_info.local_done # and whether the env is done\n",
    "\n",
    "        # add data to buffer\n",
    "        buffer.add(states, actions_array, rewards, next_states, dones)\n",
    "        \n",
    "        states = next_states # after each timestep update the obs to the new obs before restarting the loop\n",
    "        \n",
    "        # for calculating rewards for this particular episode - addition of all time steps\n",
    "        reward_this_episode += rewards\n",
    "        \n",
    "        \n",
    "        step_num += 1\n",
    "        \n",
    "        if (len(buffer) > p['warmup']): \n",
    "            if step_num%p['UPDATE_EVERY'] == 0:\n",
    "                for _ in range(p['Num_Updates']): # learn multiple times at every step                    \n",
    "                    for agent_num in range(p['Total_Agent']): # for both agents\n",
    "                        samples = buffer.sample(p['batchsize']) # sample the buffer\n",
    "                        maddpg.update(samples, agent_num) # update the agent\n",
    "                        maddpg.update_targets(agent_num) # soft update the target network towards the actual networks\n",
    "                        \n",
    "        if np.any(dones):                                  # exit loop if episode finished\n",
    "            break\n",
    "            \n",
    "            \n",
    "    # update the episode scores \n",
    "    eps_score = np.max(reward_this_episode)\n",
    "    scores_deque.append(eps_score)\n",
    "    scores.append(eps_score) \n",
    "        \n",
    "\n",
    "    # add average score to tensorboard\n",
    "    print('\\rEpisode {}\\t  Score: {:.2f}'.format(episode, eps_score), end=\"\")\n",
    "   \n",
    "    if episode > 0:\n",
    "        if episode % p['print_every'] == 0:\n",
    "            avg_score = np.mean(scores_deque)\n",
    "            avg_scores.append(avg_score)\n",
    "            print('\\rEpisode {}\\tAverage Score in 100 episodes: {:.2f}'.format(episode, avg_score))\n",
    "            maddpg.save_models()\n",
    "    \n",
    "    if episode >= 100:\n",
    "        avg_score = np.mean(scores_deque)\n",
    "        if avg_score >= 0.5:\n",
    "            print('\\nEnvironment solved in {:d} episodes!\\tAverage Score: {:.2f}'.format(episode-100, avg_score))\n",
    "            maddpg.save_models()\n",
    "            print('Models saved successfully')\n",
    "            break\n",
    "                \n",
    "   \n",
    "\n"
   ]
  },
  {
   "cell_type": "code",
   "execution_count": 8,
   "metadata": {},
   "outputs": [
    {
     "data": {
      "image/png": "[encoded data removed]",
      "text/plain": [
       "<matplotlib.figure.Figure at 0x7f63922faac8>"
      ]
     },
     "metadata": {
      "needs_background": "light"
     },
     "output_type": "display_data"
    }
   ],
   "source": [
    "episodes = list(range(1, len(scores)+1))\n",
    "plt.plot(episodes, scores,marker='*', label=\"Score per episode\")\n",
    "plt.plot(np.array(list(range(1,len(avg_scores)+1)))*100,avg_scores, label=\"Average score over 100 episodes\")\n",
    "plt.title(\"MADDPG-Tennis\")\n",
    "plt.xlabel(\"Episode\")\n",
    "plt.ylabel(\"Score\")\n",
    "plt.axvline(episodes[-1]-100,color='r')\n",
    "plt.axhline(0.5,color='g')\n",
    "plt.legend()\n",
    "plt.savefig('MADDPG_Tennis_score.png', bbox_inches='tight')\n"
   ]
  },
  {
   "cell_type": "markdown",
   "metadata": {},
   "source": [
    "### 3. Take Random Actions in the Environment\n",
    "\n",
    "In the next code cell, you will learn how to use the Python API to control the agent and receive feedback from the environment.\n",
    "\n",
    "Note that **in this coding environment, you will not be able to watch the agents while they are training**, and you should set `train_mode=True` to restart the environment."
   ]
  },
  {
   "cell_type": "code",
   "execution_count": null,
   "metadata": {},
   "outputs": [],
   "source": [
    "for i in range(5):                                         # play game for 5 episodes\n",
    "    env_info = env.reset(train_mode=False)[brain_name]     # reset the environment    \n",
    "    states = env_info.vector_observations                  # get the current state (for each agent)\n",
    "    scores = np.zeros(num_agents)                          # initialize the score (for each agent)\n",
    "    while True:\n",
    "        actions = np.random.randn(num_agents, action_size) # select an action (for each agent)\n",
    "        actions = np.clip(actions, -1, 1)                  # all actions between -1 and 1\n",
    "        env_info = env.step(actions)[brain_name]           # send all actions to tne environment\n",
    "        next_states = env_info.vector_observations         # get next state (for each agent)\n",
    "        rewards = env_info.rewards                         # get reward (for each agent)\n",
    "        dones = env_info.local_done                        # see if episode finished\n",
    "        scores += env_info.rewards                         # update the score (for each agent)\n",
    "        states = next_states                               # roll over states to next time step\n",
    "        if np.any(dones):                                  # exit loop if episode finished\n",
    "            break\n",
    "    print('Total score (averaged over agents) this episode: {}'.format(np.mean(scores)))"
   ]
  },
  {
   "cell_type": "markdown",
   "metadata": {},
   "source": [
    "When finished, you can close the environment."
   ]
  },
  {
   "cell_type": "code",
   "execution_count": null,
   "metadata": {},
   "outputs": [],
   "source": [
    "env.close()"
   ]
  },
  {
   "cell_type": "markdown",
   "metadata": {},
   "source": [
    "### 4. It's Your Turn!\n",
    "\n",
    "Now it's your turn to train your own agent to solve the environment!  A few **important notes**:\n",
    "- When training the environment, set `train_mode=True`, so that the line for resetting the environment looks like the following:\n",
    "```python\n",
    "env_info = env.reset(train_mode=True)[brain_name]\n",
    "```\n",
    "- To structure your work, you're welcome to work directly in this Jupyter notebook, or you might like to start over with a new file!  You can see the list of files in the workspace by clicking on **_Jupyter_** in the top left corner of the notebook.\n",
    "- In this coding environment, you will not be able to watch the agents while they are training.  However, **_after training the agents_**, you can download the saved model weights to watch the agents on your own machine! "
   ]
  }
 ],
 "metadata": {
  "kernelspec": {
   "display_name": "Python 3",
   "language": "python",
   "name": "python3"
  },
  "language_info": {
   "codemirror_mode": {
    "name": "ipython",
    "version": 3
   },
   "file_extension": ".py",
   "mimetype": "text/x-python",
   "name": "python",
   "nbconvert_exporter": "python",
   "pygments_lexer": "ipython3",
   "version": "3.6.3"
  }
 },
 "nbformat": 4,
 "nbformat_minor": 2
}
